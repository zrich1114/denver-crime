{
 "cells": [
  {
   "cell_type": "markdown",
   "id": "f345b2f2",
   "metadata": {},
   "source": [
    "# Census Insights"
   ]
  },
  {
   "cell_type": "markdown",
   "id": "5a0ce58b",
   "metadata": {},
   "source": [
    "Which neighborhoods have the highest crime rates per capita?"
   ]
  },
  {
   "cell_type": "markdown",
   "id": "3575aa51",
   "metadata": {},
   "source": [
    "Is there a correlation between home ownership and larceny rates?"
   ]
  },
  {
   "cell_type": "markdown",
   "id": "c1069e07",
   "metadata": {},
   "source": [
    "Do neighborhoods with different age profiles have different crime rates?"
   ]
  },
  {
   "cell_type": "markdown",
   "id": "3fc401fa",
   "metadata": {},
   "source": []
  }
 ],
 "metadata": {
  "language_info": {
   "name": "python"
  }
 },
 "nbformat": 4,
 "nbformat_minor": 5
}
