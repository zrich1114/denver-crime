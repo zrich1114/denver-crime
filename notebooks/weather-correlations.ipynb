{
 "cells": [
  {
   "cell_type": "markdown",
   "id": "ceca2c57",
   "metadata": {},
   "source": [
    "# Weather Correlations"
   ]
  },
  {
   "cell_type": "markdown",
   "id": "8428dc16",
   "metadata": {},
   "source": [
    "Are auto thefts more likely to occur on snowy days?"
   ]
  },
  {
   "cell_type": "markdown",
   "id": "e49a8834",
   "metadata": {},
   "source": [
    "Do aggrevated assaults occur more frequently on days with extreme temperatures?"
   ]
  }
 ],
 "metadata": {
  "language_info": {
   "name": "python"
  }
 },
 "nbformat": 4,
 "nbformat_minor": 5
}
