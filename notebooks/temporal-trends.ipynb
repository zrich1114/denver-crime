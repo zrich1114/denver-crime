{
 "cells": [
  {
   "cell_type": "markdown",
   "id": "b94009a3",
   "metadata": {},
   "source": [
    "# Temporal Trends"
   ]
  },
  {
   "cell_type": "markdown",
   "id": "75b531e3",
   "metadata": {},
   "source": [
    "How do crime rates very by neighborhood over time?"
   ]
  },
  {
   "cell_type": "markdown",
   "id": "55b9a477",
   "metadata": {},
   "source": [
    "Are certain types of crimes more prevelant during particular times of the year?"
   ]
  },
  {
   "cell_type": "markdown",
   "id": "8d679562",
   "metadata": {},
   "source": [
    "What's the trend in reporting delay?"
   ]
  },
  {
   "cell_type": "markdown",
   "id": "14d246c3",
   "metadata": {},
   "source": [
    "Which neighborhoods had the sharpest increase in violent crimes since 2020?"
   ]
  },
  {
   "cell_type": "markdown",
   "id": "ad761d6a",
   "metadata": {},
   "source": []
  }
 ],
 "metadata": {
  "language_info": {
   "name": "python"
  }
 },
 "nbformat": 4,
 "nbformat_minor": 5
}
